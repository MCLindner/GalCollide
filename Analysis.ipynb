{
 "cells": [
  {
   "cell_type": "code",
   "execution_count": 1,
   "metadata": {},
   "outputs": [],
   "source": [
    "import matplotlib.image as mpimg\n",
    "from matplotlib.animation import FuncAnimation\n",
    "\n",
    "from IPython import display\n",
    "import pynbody\n",
    "import pynbody.plot.sph as sph\n",
    "import matplotlib.pylab as plt\n",
    "from pathlib import Path\n",
    "import numpy as np\n",
    "from PIL import Image, ImageDraw"
   ]
  },
  {
   "cell_type": "code",
   "execution_count": 3,
   "metadata": {},
   "outputs": [],
   "source": [
    "files = []\n",
    "a = np.arange(0,350,1)\n",
    "for value in a:\n",
    "    entry = './Data/testingside.tipsy.'+str(value).zfill(9)+'.ppm'\n",
    "    files.append(Image.open(entry))\n",
    "files[0].save('./Animations/testingside.gif',\n",
    "               save_all=True, append_images=files[1:], optimize=False, duration=90, loop=0)"
   ]
  },
  {
   "cell_type": "code",
   "execution_count": null,
   "metadata": {},
   "outputs": [],
   "source": []
  }
 ],
 "metadata": {
  "kernelspec": {
   "display_name": "Python 3",
   "language": "python",
   "name": "python3"
  },
  "language_info": {
   "codemirror_mode": {
    "name": "ipython",
    "version": 3
   },
   "file_extension": ".py",
   "mimetype": "text/x-python",
   "name": "python",
   "nbconvert_exporter": "python",
   "pygments_lexer": "ipython3",
   "version": "3.7.7"
  }
 },
 "nbformat": 4,
 "nbformat_minor": 4
}
