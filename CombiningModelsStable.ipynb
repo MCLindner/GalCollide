{
 "cells": [
  {
   "cell_type": "markdown",
   "metadata": {},
   "source": [
    "# Combining galaxy models in Kepler orbits:"
   ]
  },
  {
   "cell_type": "markdown",
   "metadata": {},
   "source": [
    "### Given the semimajor axis and perigalactic distance of two galaxies in a typical two-body problem, along with the eccentric anomaly of each galaxy in its orbit, we can create an initial condition that will place them in a Keplerian orbit around the center of mass of the system."
   ]
  },
  {
   "cell_type": "markdown",
   "metadata": {},
   "source": [
    "### Imports:"
   ]
  },
  {
   "cell_type": "code",
   "execution_count": 3,
   "metadata": {},
   "outputs": [],
   "source": [
    "import pynbody\n",
    "import pynbody.plot.sph as sph\n",
    "import matplotlib.pylab as plt\n",
    "import numpy as np\n",
    "from scipy.integrate import solve_ivp\n",
    "import astropy.units as u\n",
    "import astropy.constants as const\n",
    "import astropy.units"
   ]
  },
  {
   "cell_type": "markdown",
   "metadata": {},
   "source": [
    "## Class for generating initial conditions and testing that the galaxies are in fact in a Kepler orbits:"
   ]
  },
  {
   "cell_type": "code",
   "execution_count": 18,
   "metadata": {},
   "outputs": [],
   "source": [
    "class Bodys:\n",
    "    \"\"\"\n",
    "    Create an initial condition for two galaxies in a kepler orbit.\n",
    "    Attributes:\n",
    "    Gal1, PyNBody TipsySnap \n",
    "    Gal2, PyNbody TipsySnap\n",
    "    d_perigalactic1 = perigalactic distance given in kpc\n",
    "    semimajor_axis1 = semimajor axis given in kpc\n",
    "    E1 = eccentric anomaly of galaxy 1 in radians. \n",
    "    E2 = eccentric anomaly of galaxy 2 in radians. Equal E is out of phase by pi, therefore E1 and E2 both being zero places them at opposite sides of their orbits.\n",
    "    writename = output file name (string)\n",
    "    \"\"\"\n",
    "\n",
    "    def __init__(self, Gal1, Gal2, d_perigalactic, semimajor_axis, E1, E2, writename):\n",
    "        self.Gal1 = Gal1\n",
    "        self.Gal2 = Gal2       \n",
    "        self.d_perigalactic = d_perigalactic * u.kpc\n",
    "        self.semimajor_axis = semimajor_axis * u.kpc\n",
    "        self.E1 = E1\n",
    "        self.E2 = E2\n",
    "        self.writename = writename\n",
    "        \n",
    "        self.G = const.G\n",
    "        self.Mass1 = float(self.Gal1['mass'].sum().in_units('kg'))*u.kg\n",
    "        self.Mass2 = float(self.Gal2['mass'].sum().in_units('kg'))*u.kg\n",
    "        self.MassTot = self.Mass1 + self.Mass2\n",
    "        \n",
    "              \n",
    "    def get_vxvy(self, which_gal):\n",
    "        \"\"\"Finds the velocity componants in cartesian that, given the parameters passed into the class, would result\n",
    "        in a Keplerian two-body orbit.\"\"\"\n",
    "        print(self.MassTot)\n",
    "\n",
    "        #k = np.sqrt(self.G*(self.Mass1 + self.MassTot))\n",
    "        k = np.sqrt(self.G*self.MassTot)\n",
    "        a = self.semimajor_axis\n",
    "        rp = self.d_perigalactic\n",
    "        e = 1 - (rp/a)     \n",
    "        b = a * np.sqrt(1-e**2)\n",
    "        n = k * a**(-3/2)\n",
    "\n",
    "        # Gal1 ###############################################################\n",
    "        E1 = self.E1\n",
    "\n",
    "        # Find positions\n",
    "        X1 = a * (np.cos(E1) - e)\n",
    "        Y1 = b * np.sin(E1)\n",
    "\n",
    "        # Find velocity componants\n",
    "        vX1 = (-a * n * np.sin(E1)) / (1 - e * np.cos(E1)) \n",
    "        vY1 = (b * n * np.cos(E1)) / (1 - e * np.cos(E1))\n",
    "        \n",
    "        # Transition from position in orbital plane to position in space\n",
    "        # [x;y;z] = P[X;Y;Z] \n",
    "        # P = I in this case as all Euler angles are 0\n",
    "        # r and r dot... go to rho\n",
    "        q1 = -1\n",
    "        x1 = q1*X1\n",
    "        y1 = q1*Y1\n",
    "        vx1 = q1*vX1\n",
    "        vy1 = q1*vY1         \n",
    "        \n",
    "        # Gal2 ###############################################################\n",
    "        E2 = self.E2\n",
    "\n",
    "        # Find positions\n",
    "        # e sign\n",
    "        X2 = a * (np.cos(E2) - e)\n",
    "        Y2 = b * np.sin(E2)\n",
    "\n",
    "        # Find velocity componants\n",
    "        vX2 = (-a * n * np.sin(E2)) / (1 - e * np.cos(E2)) \n",
    "        vY2 = (b * n * np.cos(E2)) / (1 - e * np.cos(E2))\n",
    "        \n",
    "        # Transition from position in orbital plane to position in space\n",
    "        # [x;y;z] = P[X;Y;Z] \n",
    "        # P = -I in this case as the Omega Euler angle is pi\n",
    "        q2 = 1\n",
    "\n",
    "        x2 = q2*X2\n",
    "        y2 = q2*Y2\n",
    "        vx2 = q2*vX2\n",
    "        vy2 = q2*vY2\n",
    "\n",
    "        # COM ################################################################  \n",
    "        \n",
    "        self.xcom = (x1*self.Mass1 + x2*self.Mass2)/self.MassTot\n",
    "        self.ycom = (y1*self.Mass1 + y2*self.Mass2)/self.MassTot\n",
    "        print('xcom = ' + str(self.xcom))\n",
    "         \n",
    "        if which_gal == Gal1: \n",
    "            return x1, y1, vx1, vy1\n",
    "        elif which_gal == Gal2:\n",
    "            return x2, y2, vx2, vy2\n",
    "        \n",
    "    def get_period(self):\n",
    "        \"\"\"Returns the period of orbit in seconds based on Kepler's laws.\"\"\"\n",
    "        k = np.sqrt(self.G*self.MassTot)\n",
    "        T = np.sqrt(((4*np.pi**2) / (k**2)) *self.semimajor_axis**3)\n",
    "        print('T:' + str(T.decompose()))\n",
    "        return T\n",
    "    \n",
    "    def initial_conds(self, which_gal):\n",
    "        \"\"\"Returns the initial positions and velocities for galaxy given by which_gal. Utility function.\"\"\"     \n",
    "        x, y, vx, vy = self.get_vxvy(which_gal)\n",
    "        print(str(which_gal) + ': x,y,vx,vy = ' + str((x,y,vx.decompose(),vy.decompose())))\n",
    "        return x, y, vx, vy\n",
    "\n",
    "    def equations(self, t, p):\n",
    "        \"\"\"Splits second order diff eqquations of motion into four first order differential equations.\"\"\"\n",
    "        \n",
    "        r = np.sqrt((p[0])**2 + (p[1])**2)\n",
    "        \n",
    "        #         u1 = x\n",
    "        #         u2 = y\n",
    "        #         u3 = dx\n",
    "        #         u4 = dy\n",
    "\n",
    "        du1 = p[2]\n",
    "        du2 = p[3]\n",
    "        du3 = -(((self.G * self.MassTot).value) / r**3) * (p[0]) \n",
    "        du4 = -(((self.G * self.MassTot).value) / r**3) * (p[1])\n",
    "        return [du1, du2, du3, du4]\n",
    "    \n",
    "    def solve_ivp(self, which_gal):\n",
    "        \"\"\"Test IC by solving eq for galaxies as if they were point sources.\"\"\"\n",
    "        nsteps = 10000\n",
    "        period = self.get_period().to(u.s).value\n",
    "        t_eval = np.linspace(0, period, nsteps)\n",
    "        \n",
    "\n",
    "        if which_gal == Gal1:\n",
    "            x1, y1, vx1, vy1 = self.initial_conds(Gal1)\n",
    "            sol = solve_ivp(self.equations, [0, period], [x1.to(u.m).value, y1.to(u.m).value, vx1.to(u.m/u.s).value, vy1.to(u.m/u.s).value],\n",
    "                            t_eval = t_eval, rtol=1e-6)\n",
    "        elif which_gal == Gal2:\n",
    "            x2, y2, vx2, vy2 = self.initial_conds(Gal2)\n",
    "            sol = solve_ivp(self.equations, [0, period], [x2.to(u.m).value, y2.to(u.m).value, vx2.to(u.m/u.s).value, vy2.to(u.m/u.s).value],\n",
    "                            t_eval = t_eval, rtol=1e-6)\n",
    "        return sol\n",
    "    \n",
    "    def combine(self):\n",
    "        \"\"\"Combines the two galaxies into a new TipsySnap. Massunit = 2.2222858e5 Msol. Length unit = 1 kpc.\"\"\"\n",
    "        x1, y1, vx1, vy1 = self.initial_conds(which_gal = self.Gal1)\n",
    "        x2, y2, vx2, vy2 = self.initial_conds(which_gal = self.Gal2)\n",
    "        \n",
    "        x1 = ((x1).to(u.kpc)).value * (self.Mass1 / self.MassTot)\n",
    "        y1 = ((y1).to(u.kpc)).value * (self.Mass1 / self.MassTot)\n",
    "        x2 = ((x2).to(u.kpc)).value * (self.Mass2 / self.MassTot)\n",
    "        y2 = ((y2).to(u.kpc)).value * (self.Mass2 / self.MassTot)\n",
    "        \n",
    "        vx1 = ((vx1).to(.9778 * u.km/u.s)).value * (self.Mass1 / self.MassTot)\n",
    "        vy1 = ((vy1).to(.9778 * u.km/u.s)).value * (self.Mass1 / self.MassTot)\n",
    "        vx2 = ((vx2).to(.9778 * u.km/u.s)).value * (self.Mass2 / self.MassTot)\n",
    "        vy2 = ((vy2).to(.9778 * u.km/u.s)).value * (self.Mass2 / self.MassTot)\n",
    "        \n",
    "        lengths = {}\n",
    "        for fam in Gal1.families():\n",
    "            lengths[fam.name] = len(Gal1[fam])\n",
    "\n",
    "        gal1_shifted = pynbody.new(**lengths)\n",
    "\n",
    "        for fam in Gal1.families():\n",
    "            s1 = Gal1[fam]\n",
    "            gal1_shifted[fam][:len(s1)]['pos'] = s1['pos'].in_units('kpc') + [x1, y1, 0]\n",
    "            print('test')\n",
    "            print(s1['pos'].in_units('kpc'))\n",
    "            print(type(s1['pos'].in_units('kpc')))\n",
    "            gal1_shifted[fam][:len(s1)]['vel'] = s1['vel'].in_units('.9778 km s**-1') + [vx1, vy1, 0]\n",
    "            gal1_shifted[fam][:len(s1)]['mass'] = s1['mass'].in_units('2.2222858e5 Msol')\n",
    "            gal1_shifted[fam][:len(s1)]['rho'] = s1['rho'].in_units('2.2222858e5 Msol kpc**-3')\n",
    "            gal1_shifted[fam][:len(s1)]['eps'] = s1['eps']\n",
    "\n",
    "        gal1_shifted.write(filename='temp1.tipsy', fmt=pynbody.tipsy.TipsySnap, cosmological = False)        \n",
    "        \n",
    "        lengths = {}\n",
    "        for fam in Gal2.families():\n",
    "            lengths[fam.name] = len(Gal2[fam])\n",
    "\n",
    "        gal2_shifted = pynbody.new(**lengths)\n",
    "\n",
    "        for fam in Gal2.families():\n",
    "            s1 = Gal2[fam]\n",
    "            gal2_shifted[fam][:len(s1)]['pos'] = s1['pos'].in_units('kpc') + [x2, y2, 0]\n",
    "            gal2_shifted[fam][:len(s1)]['vel'] = s1['vel'].in_units('.9778 km s**-1') + [vx2, vy2, 0]\n",
    "            gal2_shifted[fam][:len(s1)]['mass'] = s1['mass'].in_units('2.2222858e5 Msol')\n",
    "            gal2_shifted[fam][:len(s1)]['rho'] = s1['rho'].in_units('2.2222858e5 Msol kpc**-3')\n",
    "            gal2_shifted[fam][:len(s1)]['eps'] = s1['eps']\n",
    "\n",
    "        gal2_shifted.write(filename='temp2.tipsy', fmt=pynbody.tipsy.TipsySnap, cosmological = False)\n",
    "\n",
    "        # combining\n",
    "        for fam in gal1_shifted.families():\n",
    "            lengths[fam.name] = len(gal1_shifted[fam])+len(gal2_shifted[fam])\n",
    "\n",
    "        combined = pynbody.new(**lengths)\n",
    "\n",
    "        for fam in Gal1.families():\n",
    "            s1 = gal1_shifted[fam]\n",
    "            s2 = gal2_shifted[fam]\n",
    "            for arname in 'pos','vel','mass', 'rho', 'eps':\n",
    "                combined[fam][:len(s1)][arname] = s1[arname]\n",
    "                combined[fam][len(s1):][arname] = s2[arname]\n",
    "\n",
    "        combined.write(filename=self.writename, fmt=pynbody.tipsy.TipsySnap, cosmological = False)\n",
    "        return combined\n",
    "    \n",
    "    def make_param_file(self):\n",
    "        \"\"\"Creates a param file for use in ChaNGa. Sets nSteps to integrate over one orbital period.\"\"\"\n",
    "        p = self.get_period()\n",
    "        \n",
    "        dDelta = 0.01\n",
    "            \n",
    "        #check    \n",
    "        gyears = p.to(1e9*u.year)\n",
    "        print(gyears)\n",
    "        steps = gyears / dDelta\n",
    "        \n",
    "        achInFile = self.writename\n",
    "\n",
    "        # write data in a file. \n",
    "        file = open(self.writename + \".param\",\"w\") \n",
    "        L = [\"nSteps = \" + str(int(steps.value)) + \"\\n\", \"dTheta = 0.7 \\n\",\"dEta = .03 \\n\",\"dDelta = \" + str(dDelta) + \" \\n\",\"iOutInterval = 500 \\n\",\n",
    "             \"achInFile = \" + achInFile + \" \\n\",\"achOutName = \" + self.writename +\" \\n\", \"iLogInterval = 1 \\n\",\n",
    "             \"dMsolUnit = 2.2222858e5 \\n\", \"dKpcUnit = 1 \\n\", \"dDumpFrameStep = 25 \\n\", \"iDirector = 1 \\n\"]  \n",
    "\n",
    "        file.writelines(L) \n",
    "        file.close() #to change file access modes \n",
    "        \n",
    "    def make_director_file(self):\n",
    "        \"\"\"Creates a param file for use in ChaNGa. Sets nSteps to integrate over one orbital period.\"\"\"\n",
    "        # write data in a file. \n",
    "        file = open(self.writename + \".director\",\"w\")\n",
    "        z = 0.5 * self.semimajor_axis.value + 20\n",
    "        L = [\"size 1000 1000 \\n\", \"clip 0.001 500 \\n\",\"render tsc \\n\",\"target 0 0 0 \\n\",\"physical \\n\",\n",
    "             \"file \" + str(self.writename) + \" \\n\",\"project perspective \\n\", \"softdark 0.2 \\n\",\n",
    "              \"logscale 100000000000 10000000000000000 \\n\", \"colstar 1. 0.3 0. 5e-18 \\n\", \"coldark 0.2 0.2 5 7e-16 \\n\",\n",
    "             \"dDumpFrameStep = 25 \\n\", \"iDirector = 1 \\n\", \"gas off \\n\", \"FOV 90 \\n\", \"up 0 1 0 \\n\", \"eye 0. 0. \" + str(z) + \" \\n\"]                             \n",
    "        \n",
    "        file.writelines(L) \n",
    "        file.close() #to change file access modes"
   ]
  },
  {
   "cell_type": "markdown",
   "metadata": {},
   "source": [
    "### Instantiating our class and plotting the initial condition with PyNBody:"
   ]
  },
  {
   "cell_type": "code",
   "execution_count": 19,
   "metadata": {},
   "outputs": [
    {
     "name": "stdout",
     "output_type": "stream",
     "text": [
      "T:5.456519085937362e+18 s\n",
      "172.9066559541081 1e+09 yr\n",
      "7.295991249876128e+37 kg\n",
      "xcom = 0.0 kpc\n",
      "<SimSnap \"./InitialConditions/initHQv2\" len=100000>: x,y,vx,vy = (<Quantity 75. kpc>, <Quantity -5.30287619e-15 kpc>, <Quantity 1.45045524e-13 m / s>, <Quantity 1025.70887178 m / s>)\n",
      "7.295991249876128e+37 kg\n",
      "xcom = 0.0 kpc\n",
      "<SimSnap \"./InitialConditions/initHQv22\" len=100000>: x,y,vx,vy = (<Quantity -75. kpc>, <Quantity 5.30287619e-15 kpc>, <Quantity -1.45045524e-13 m / s>, <Quantity -1025.70887178 m / s>)\n",
      "test\n",
      "[[ 5.12266951e-03  3.87373311e-03  8.26658122e-03]\n",
      " [ 3.77782178e-03  9.61872470e-03  1.46151744e-02]\n",
      " [-9.51966830e-03  1.29082873e-02  1.92608144e-02]\n",
      " ...\n",
      " [-3.65025520e+00 -8.01112843e+00 -1.32830248e+01]\n",
      " [-9.02833223e-01 -7.36465311e+00  2.10819035e+01]\n",
      " [ 8.99740028e+00  1.79135609e+01 -1.56616116e+01]]\n",
      "<class 'pynbody.array.SimArray'>\n"
     ]
    },
    {
     "name": "stderr",
     "output_type": "stream",
     "text": [
      "/home/michael/miniconda3/lib/python3.7/site-packages/pynbody/snapshot/tipsy.py:437: RuntimeWarning: Time is unknown: writing zero in header\n",
      "  \"Time is unknown: writing zero in header\", RuntimeWarning)\n"
     ]
    }
   ],
   "source": [
    "plt.style.use('ggplot')\n",
    "\n",
    "# Load models here\n",
    "Gal1 = pynbody.load('./InitialConditions/initHQv2')\n",
    "Gal2 = pynbody.load('./InitialConditions/initHQv22')\n",
    "\n",
    "# Instantiate class\n",
    "two_bodys = Bodys(Gal1, Gal2, 25, 50, np.pi, np.pi, 'HQincreased.tipsy')\n",
    "two_bodys.make_param_file()\n",
    "two_bodys.make_director_file()\n",
    "combined = two_bodys.combine()"
   ]
  },
  {
   "cell_type": "code",
   "execution_count": 102,
   "metadata": {},
   "outputs": [
    {
     "data": {
      "text/plain": [
       "SimArray([[1.4088614e-13, 1.4088614e-13, 1.4088614e-13, ...,\n",
       "           1.4088614e-13, 1.4088614e-13, 1.4088614e-13],\n",
       "          [1.4088614e-13, 1.4088614e-13, 1.4088614e-13, ...,\n",
       "           1.4088614e-13, 1.4088614e-13, 1.4088614e-13],\n",
       "          [1.4088614e-13, 1.4088614e-13, 1.4088614e-13, ...,\n",
       "           1.4088614e-13, 1.4088614e-13, 1.4088614e-13],\n",
       "          ...,\n",
       "          [1.4088614e-13, 1.4088614e-13, 1.4088614e-13, ...,\n",
       "           1.4088614e-13, 1.4088614e-13, 1.4088614e-13],\n",
       "          [1.4088614e-13, 1.4088614e-13, 1.4088614e-13, ...,\n",
       "           1.4088614e-13, 1.4088614e-13, 1.4088614e-13],\n",
       "          [1.4088614e-13, 1.4088614e-13, 1.4088614e-13, ...,\n",
       "           1.4088614e-13, 1.4088614e-13, 1.4088614e-13]], dtype=float32, '2.22e+05 Msol kpc**-3')"
      ]
     },
     "execution_count": 102,
     "metadata": {},
     "output_type": "execute_result"
    },
    {
     "data": {
      "image/png": "[encoded data removed]",
      "text/plain": [
       "<Figure size 432x288 with 1 Axes>"
      ]
     },
     "metadata": {},
     "output_type": "display_data"
    }
   ],
   "source": [
    "sph.velocity_image(combined, vector_color=\"black\", qty=\"rho\",width=1500,cmap=\"Blues\",\n",
    "                   denoise=False,approximate_fast=False, show_cbar = False)"
   ]
  },
  {
   "cell_type": "markdown",
   "metadata": {},
   "source": [
    "## Tests:"
   ]
  },
  {
   "cell_type": "markdown",
   "metadata": {},
   "source": [
    "### Integrating our initial condition:"
   ]
  },
  {
   "cell_type": "code",
   "execution_count": 103,
   "metadata": {},
   "outputs": [
    {
     "name": "stdout",
     "output_type": "stream",
     "text": [
      "T:5.456519085937362e+18 s\n",
      "7.295991249876128e+37 kg\n",
      "xcom = 0.0 kpc\n",
      "<SimSnap \"./InitialConditions/initHQv2\" len=100000>: x,y,vx,vy = (<Quantity 75. kpc>, <Quantity -5.30287619e-15 kpc>, <Quantity 1.45045524e-13 m / s>, <Quantity 1025.70887178 m / s>)\n",
      "T:5.456519085937362e+18 s\n",
      "7.295991249876128e+37 kg\n",
      "xcom = 0.0 kpc\n",
      "<SimSnap \"./InitialConditions/initHQv22\" len=100000>: x,y,vx,vy = (<Quantity -75. kpc>, <Quantity 5.30287619e-15 kpc>, <Quantity -1.45045524e-13 m / s>, <Quantity -1025.70887178 m / s>)\n"
     ]
    }
   ],
   "source": [
    "test1 = two_bodys.solve_ivp(Gal1)\n",
    "test2 = two_bodys.solve_ivp(Gal2)"
   ]
  },
  {
   "cell_type": "markdown",
   "metadata": {},
   "source": [
    "### Plotting y vs t for one (well at least its supposed to be one) period:"
   ]
  },
  {
   "cell_type": "code",
   "execution_count": 104,
   "metadata": {},
   "outputs": [],
   "source": [
    "Mass1 = float(Gal1['mass'].sum().in_units('kg'))*u.kg\n",
    "Mass2 = float(Gal2['mass'].sum().in_units('kg'))*u.kg\n",
    "MassTot = Mass1 + Mass2\n",
    "\n",
    "\n",
    "x1 = (test1['y'][0]*u.m).to(u.kpc).value * Mass1/MassTot\n",
    "x2 = (test2['y'][0]*u.m).to(u.kpc).value * Mass2/MassTot\n",
    "y1 = (test1['y'][1]*u.m).to(u.kpc).value * Mass1/MassTot\n",
    "y2 = (test2['y'][1]*u.m).to(u.kpc).value * Mass2/MassTot"
   ]
  },
  {
   "cell_type": "code",
   "execution_count": 105,
   "metadata": {},
   "outputs": [
    {
     "data": {
      "text/plain": [
       "Text(0.5, 0, 't')"
      ]
     },
     "execution_count": 105,
     "metadata": {},
     "output_type": "execute_result"
    },
    {
     "data": {
      "image/png": "[encoded data removed]",
      "text/plain": [
       "<Figure size 432x288 with 2 Axes>"
      ]
     },
     "metadata": {},
     "output_type": "display_data"
    }
   ],
   "source": [
    "fig, ax = plt.subplots(2)\n",
    "ax[0].plot(test1['t'],y1)\n",
    "ax[1].plot(test2['t'],y2)\n",
    "ax[0].set_ylabel('y')\n",
    "ax[0].set_xlabel('t')"
   ]
  },
  {
   "cell_type": "markdown",
   "metadata": {},
   "source": [
    "### Plotting x vs y:"
   ]
  },
  {
   "cell_type": "code",
   "execution_count": 106,
   "metadata": {},
   "outputs": [
    {
     "data": {
      "text/plain": [
       "<matplotlib.collections.PathCollection at 0x7f4805dd2a50>"
      ]
     },
     "execution_count": 106,
     "metadata": {},
     "output_type": "execute_result"
    },
    {
     "data": {
      "image/png": "[encoded data removed]",
      "text/plain": [
       "<Figure size 1080x1080 with 1 Axes>"
      ]
     },
     "metadata": {},
     "output_type": "display_data"
    }
   ],
   "source": [
    "fig, ax = plt.subplots(figsize=(15,15))\n",
    "\n",
    "ax.set_ylim(-50,50)\n",
    "ax.set_xlim(-50,50)\n",
    "\n",
    "ax.scatter(x1,y1,c='b')\n",
    "ax.scatter(x2,y2,c='r')\n",
    "\n"
   ]
  },
  {
   "cell_type": "code",
   "execution_count": null,
   "metadata": {},
   "outputs": [],
   "source": []
  },
  {
   "cell_type": "code",
   "execution_count": null,
   "metadata": {},
   "outputs": [],
   "source": []
  }
 ],
 "metadata": {
  "kernelspec": {
   "display_name": "Python 3",
   "language": "python",
   "name": "python3"
  },
  "language_info": {
   "codemirror_mode": {
    "name": "ipython",
    "version": 3
   },
   "file_extension": ".py",
   "mimetype": "text/x-python",
   "name": "python",
   "nbconvert_exporter": "python",
   "pygments_lexer": "ipython3",
   "version": "3.7.7"
  }
 },
 "nbformat": 4,
 "nbformat_minor": 4
}
