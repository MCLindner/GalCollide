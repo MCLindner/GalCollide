{
 "cells": [
  {
   "cell_type": "markdown",
   "metadata": {},
   "source": [
    "# Combining galaxy models in Kepler orbits:"
   ]
  },
  {
   "cell_type": "markdown",
   "metadata": {},
   "source": [
    "### Given the semimajor axis and perigalactic distance of two galaxies in a typical two-body problem, along with the eccentric anomaly of each galaxy in its orbit, we can create an initial condition that will place them in a Keplerian orbit around the center of mass of the system."
   ]
  },
  {
   "cell_type": "markdown",
   "metadata": {},
   "source": [
    "### Imports:"
   ]
  },
  {
   "cell_type": "code",
   "execution_count": 1,
   "metadata": {},
   "outputs": [],
   "source": [
    "import pynbody\n",
    "import pynbody.plot.sph as sph\n",
    "import matplotlib.pylab as plt\n",
    "import numpy as np\n",
    "from scipy.integrate import solve_ivp\n",
    "from scipy.optimize import fsolve\n",
    "import astropy.units as u\n",
    "import astropy.constants as const\n",
    "import astropy.units"
   ]
  },
  {
   "cell_type": "markdown",
   "metadata": {},
   "source": [
    "## Class for generating initial conditions and testing that the galaxies are in fact in a Kepler orbits:"
   ]
  },
  {
   "cell_type": "code",
   "execution_count": 103,
   "metadata": {},
   "outputs": [],
   "source": [
    "#initial sep\n",
    "#pericenter\n",
    "#eccentricity\n",
    "#find E\n",
    "#add t_init\n",
    "\n",
    "#make second director file automatically\n",
    "\n",
    "class Bodys:\n",
    "    \"\"\"\n",
    "    Create an initial condition for two galaxies in a kepler orbit.\n",
    "    Attributes:\n",
    "    Gal1, PyNBody TipsySnap \n",
    "    Gal2, PyNbody TipsySnap\n",
    "    d_perigalactic1 = perigalactic distance given in kpc\n",
    "    semimajor_axis1 = semimajor axis given in kpc\n",
    "    E1 = eccentric anomaly of galaxy 1 in radians. \n",
    "    E2 = eccentric anomaly of galaxy 2 in radians. Equal E is out of phase by pi, therefore E1 and E2 both being zero places them at opposite sides of their orbits.\n",
    "    writename = output file name (string)\n",
    "    \"\"\"\n",
    "\n",
    "    def __init__(self, Gal1, Gal2, d_perigalactic, inital_separation, eccentricity, writename, Omega1, w1, i1, Omega2, w2, i2, transform):\n",
    "        self.Gal1 = Gal1\n",
    "        self.Gal2 = Gal2\n",
    "        \n",
    "        self.d_perigalactic = d_perigalactic * u.kpc\n",
    "        self.eccentricity = eccentricity\n",
    "        self.inital_separation = inital_separation  * u.kpc\n",
    "        \n",
    "        self.writename = writename\n",
    "        \n",
    "        self.Omega1 = Omega1\n",
    "        self.w1 = w1\n",
    "        self.i1 = i1\n",
    "        self.Omega2 = Omega2\n",
    "        self.w2 = w2\n",
    "        self.i2 = i2\n",
    "        \n",
    "        self.transform = transform\n",
    "                \n",
    "        self.G = const.G\n",
    "        self.Mass1 = float(self.Gal1['mass'].sum().in_units('kg'))*u.kg\n",
    "        self.Mass2 = float(self.Gal2['mass'].sum().in_units('kg'))*u.kg\n",
    "        self.MassTot = self.Mass1 + self.Mass2\n",
    "        \n",
    "              \n",
    "    def get_vxvy(self, which_gal):\n",
    "        \"\"\"Finds the velocity componants in cartesian that, given the parameters passed into the class, would result\n",
    "        in a Keplerian two-body orbit.\"\"\"\n",
    "        # Constants\n",
    "        k = np.sqrt(self.G*self.MassTot)\n",
    "        \n",
    "        # Given parameters\n",
    "        e = self.eccentricity\n",
    "        rp = self.d_perigalactic\n",
    "        r = self.inital_separation\n",
    "        \n",
    "        # Derived parameters\n",
    "        a = -rp/(e-1)\n",
    "        b = a * np.sqrt(1-e**2)\n",
    "        n = k * a**(-3/2)\n",
    "        \n",
    "        # Gal1 ###############################################################\n",
    "\n",
    "        # Find E1\n",
    "        def f1(E1):\n",
    "            return (np.sqrt((a * (np.cos(E1) - e))**2 + (b * np.sin(E1))**2) - r)\n",
    "        print(\"Finding E1\")\n",
    "        E1 = fsolve(f1, x0=0, xtol=10e-6)\n",
    "        print(E1)\n",
    "        print(\"Done\")\n",
    "        \n",
    "        # Find positions\n",
    "        X1 = a * (np.cos(E1) - e)\n",
    "        Y1 = b * np.sin(E1)\n",
    "        \n",
    "        # Find velocity componants\n",
    "        vX1 = (-a * n * np.sin(E1)) / (1 - e * np.cos(E1)) \n",
    "        vY1 = (b * n * np.cos(E1)) / (1 - e * np.cos(E1))\n",
    "        \n",
    "        # Transition from position in orbital plane to position in space\n",
    "        # [x;y;z] = P[X;Y;Z] \n",
    "        # P = I in this case as all Euler angles are 0\n",
    "        # r and r dot... go to rho\n",
    "        q1 = -1\n",
    "        x1 = q1*X1\n",
    "        y1 = q1*Y1\n",
    "        vx1 = q1*vX1\n",
    "        vy1 = q1*vY1         \n",
    "        \n",
    "        # Gal2 ###############################################################\n",
    "        # Find E2\n",
    "        def f2(E2):\n",
    "            return (np.sqrt((a * (np.cos(E2) - e))**2 + (b * np.sin(E2))**2) - r)\n",
    "        print(\"Finding E2\")\n",
    "        E2 = fsolve(f2, x0=0, xtol=10e-6)\n",
    "        print(E2)\n",
    "        print(\"Done\")\n",
    "\n",
    "        # Find positions\n",
    "        # e sign\n",
    "        X2 = a * (np.cos(E2) - e)\n",
    "        Y2 = b * np.sin(E2)\n",
    "\n",
    "        # Find velocity componants\n",
    "        vX2 = (-a * n * np.sin(E2)) / (1 - e * np.cos(E2)) \n",
    "        vY2 = (b * n * np.cos(E2)) / (1 - e * np.cos(E2))\n",
    "        \n",
    "        # Transition from position in orbital plane to position in space\n",
    "        # [x;y;z] = P[X;Y;Z] \n",
    "        # P = -I in this case as the Omega Euler angle is pi\n",
    "        q2 = 1\n",
    "\n",
    "        x2 = q2*X2\n",
    "        y2 = q2*Y2\n",
    "        vx2 = q2*vX2\n",
    "        vy2 = q2*vY2\n",
    "\n",
    "        # COM ################################################################  \n",
    "        \n",
    "        self.xcom = (x1*self.Mass1 + x2*self.Mass2)/self.MassTot\n",
    "        self.ycom = (y1*self.Mass1 + y2*self.Mass2)/self.MassTot\n",
    "        print('xcom = ' + str(self.xcom))\n",
    "         \n",
    "        if which_gal == Gal1: \n",
    "            return x1, y1, vx1, vy1\n",
    "        elif which_gal == Gal2:\n",
    "            return x2, y2, vx2, vy2\n",
    "        \n",
    "    def get_period(self):\n",
    "        \"\"\"Returns the period of orbit in seconds based on Kepler's laws.\"\"\"\n",
    "        k = np.sqrt(self.G*self.MassTot)\n",
    "        a = -self.d_perigalactic/(self.eccentricity-1)\n",
    "        T = np.sqrt(((4*np.pi**2) / (k**2)) * a**3)\n",
    "        print('T:' + str(T.decompose()))\n",
    "        return T\n",
    "    \n",
    "    def initial_conds(self, which_gal):\n",
    "        \"\"\"Returns the initial positions and velocities for galaxy given by which_gal. Utility function.\"\"\"     \n",
    "        x, y, vx, vy = self.get_vxvy(which_gal)\n",
    "        print(str(which_gal) + ': x,y,vx,vy = ' + str((x,y,vx.decompose(),vy.decompose())))\n",
    "        return x[0], y[0], vx[0], vy[0]\n",
    "\n",
    "    def equations(self, t, p):\n",
    "        \"\"\"Splits second order diff eqquations of motion into four first order differential equations.\"\"\"\n",
    "        \n",
    "        r = np.sqrt((p[0])**2 + (p[1])**2)\n",
    "        \n",
    "        #         u1 = x\n",
    "        #         u2 = y\n",
    "        #         u3 = dx\n",
    "        #         u4 = dy\n",
    "\n",
    "        du1 = p[2]\n",
    "        du2 = p[3]\n",
    "        du3 = -(((self.G * self.MassTot).value) / r**3) * (p[0]) \n",
    "        du4 = -(((self.G * self.MassTot).value) / r**3) * (p[1])\n",
    "        return [du1, du2, du3, du4]\n",
    "    \n",
    "    def solve_ivp(self, which_gal):\n",
    "        \"\"\"Test IC by solving eq for galaxies as if they were point sources.\"\"\"\n",
    "        nsteps = 10000\n",
    "        period = self.get_period().to(u.s).value\n",
    "        t_eval = np.linspace(0, period, nsteps)\n",
    "               \n",
    "        if which_gal == Gal1:\n",
    "            x1, y1, vx1, vy1 = self.initial_conds(Gal1)\n",
    "            sol = solve_ivp(self.equations, [0, period], [x1.to(u.m).value, y1.to(u.m).value, vx1.to(u.m/u.s).value, vy1.to(u.m/u.s).value],\n",
    "                            t_eval = t_eval, rtol=1e-6)\n",
    "        elif which_gal == Gal2:\n",
    "            x2, y2, vx2, vy2 = self.initial_conds(Gal2)\n",
    "            sol = solve_ivp(self.equations, [0, period], [x2.to(u.m).value, y2.to(u.m).value, vx2.to(u.m/u.s).value, vy2.to(u.m/u.s).value],\n",
    "                            t_eval = t_eval, rtol=1e-6)\n",
    "        return sol\n",
    "    \n",
    "    def combine(self):\n",
    "        \"\"\"Combines the two galaxies into a new TipsySnap. Massunit = 2.2222858e5 Msol. Length unit = 1 kpc.\"\"\"\n",
    "        #these x y z refer to initial condit to be added\n",
    "        print(\"Getting initial conditions\")\n",
    "        x1, y1, vx1, vy1 = self.initial_conds(which_gal = self.Gal1)\n",
    "        x2, y2, vx2, vy2 = self.initial_conds(which_gal = self.Gal2)\n",
    "        \n",
    "        x1 = ((x1).to(u.kpc)).value * (self.Mass1 / self.MassTot)\n",
    "        y1 = ((y1).to(u.kpc)).value * (self.Mass1 / self.MassTot)\n",
    "        x2 = ((x2).to(u.kpc)).value * (self.Mass2 / self.MassTot)\n",
    "        y2 = ((y2).to(u.kpc)).value * (self.Mass2 / self.MassTot)\n",
    "        \n",
    "        vx1 = ((vx1).to(.9778 * u.km/u.s)).value * (self.Mass1 / self.MassTot)\n",
    "        vy1 = ((vy1).to(.9778 * u.km/u.s)).value * (self.Mass1 / self.MassTot)\n",
    "        vx2 = ((vx2).to(.9778 * u.km/u.s)).value * (self.Mass2 / self.MassTot)\n",
    "        vy2 = ((vy2).to(.9778 * u.km/u.s)).value * (self.Mass2 / self.MassTot)\n",
    "        print(\"Done\")\n",
    "        \n",
    "        lengths = {}\n",
    "        for fam in Gal1.families():\n",
    "            lengths[fam.name] = len(Gal1[fam])\n",
    "\n",
    "        gal1_shifted = pynbody.new(**lengths)\n",
    "        \n",
    "        def transform(row):\n",
    "            row = (P1 * np.matrix(row).transpose())\n",
    "            return(row)\n",
    "        \n",
    "        for fam in Gal1.families():\n",
    "            s1 = Gal1[fam]    \n",
    "            if self.transform == True:\n",
    "                Omega1 = self.Omega1\n",
    "                w1 = self.w1\n",
    "                i1 = self.i1\n",
    "                P1 = np.matrix([[np.cos(Omega1)*np.cos(w1)-np.sin(Omega1)*np.cos(i1)*np.sin(w1), -np.cos(Omega1)*np.sin(w1)-np.sin(Omega1)*np.cos(i1)*np.cos(w1), np.sin(Omega1)*np.sin(i1)],\n",
    "                       [np.sin(Omega1)*np.cos(w1)+np.cos(Omega1)*np.cos(i1)*np.sin(w1), -np.sin(Omega1)*np.sin(w1)+np.cos(Omega1)*np.cos(i1)*np.cos(w1), -np.cos(Omega1)*np.sin(i1)],\n",
    "                       [np.sin(i1)*np.sin(w1), np.sin(i1)*np.cos(w1), np.cos(i1)]])                 \n",
    "                print(P1)\n",
    "                print(\"Tranforming \" + str(fam))\n",
    "                s1['pos'] = np.apply_along_axis(transform, 1, s1['pos'])   \n",
    "                s1['vel'] = np.apply_along_axis(transform, 1, s1['vel'])\n",
    "                print(\"Done\")\n",
    "            else:\n",
    "                pass\n",
    "            \n",
    "            print(\"Shifting family \" + str(fam))\n",
    "            gal1_shifted[fam][:len(s1)]['pos'] = s1['pos'].in_units('kpc') + [x1, y1, 0]\n",
    "            gal1_shifted[fam][:len(s1)]['vel'] = s1['vel'].in_units('.9778 km s**-1') + [vx1, vy1, 0]\n",
    "            gal1_shifted[fam][:len(s1)]['mass'] = s1['mass'].in_units('2.2222858e5 Msol')\n",
    "            gal1_shifted[fam][:len(s1)]['rho'] = s1['rho'].in_units('2.2222858e5 Msol kpc**-3')\n",
    "            gal1_shifted[fam][:len(s1)]['eps'] = s1['eps'].in_units('kpc')\n",
    "            print(\"Done\")\n",
    "\n",
    "        gal1_shifted.write(filename='temp1.tipsy', fmt=pynbody.tipsy.TipsySnap, cosmological = False)        \n",
    "        \n",
    "        lengths = {}\n",
    "        for fam in Gal2.families():\n",
    "            lengths[fam.name] = len(Gal2[fam])\n",
    "\n",
    "        gal2_shifted = pynbody.new(**lengths)\n",
    "\n",
    "\n",
    "        \n",
    "        def transform(row):\n",
    "            row = (P2 * np.matrix(row).transpose())\n",
    "            return(row)\n",
    "        for fam in Gal2.families():\n",
    "            s2 = Gal2[fam]   \n",
    "            if self.transform == True:\n",
    "                Omega1 = self.Omega2\n",
    "                w1 = self.w1\n",
    "                i1 = self.i1\n",
    "                P2 = np.matrix([[np.cos(Omega1)*np.cos(w1)-np.sin(Omega1)*np.cos(i1)*np.sin(w1), -np.cos(Omega1)*np.sin(w1)-np.sin(Omega1)*np.cos(i1)*np.cos(w1), np.sin(Omega1)*np.sin(i1)],\n",
    "                       [np.sin(Omega1)*np.cos(w1)+np.cos(Omega1)*np.cos(i1)*np.sin(w1), -np.sin(Omega1)*np.sin(w1)+np.cos(Omega1)*np.cos(i1)*np.cos(w1), -np.cos(Omega1)*np.sin(i1)],\n",
    "                       [np.sin(i1)*np.sin(w1), np.sin(i1)*np.cos(w1), np.cos(i1)]])            \n",
    "                print(\"Tranforming \" + str(fam))\n",
    "                print(P2)\n",
    "                s2['pos'] = np.apply_along_axis(transform, 1, s2['pos'])   \n",
    "                s2['vel'] = np.apply_along_axis(transform, 1, s2['vel'])\n",
    "                print(\"Done\")\n",
    "            else:\n",
    "                pass\n",
    "            \n",
    "            print(\"Shifting family \" + str(fam))\n",
    "            gal2_shifted[fam][:len(s2)]['pos'] = s2['pos'].in_units('kpc') + [x2, y2, 0]\n",
    "            gal2_shifted[fam][:len(s2)]['vel'] = s2['vel'].in_units('.9778 km s**-1') + [vx2, vy2, 0]\n",
    "            gal2_shifted[fam][:len(s2)]['mass'] = s2['mass'].in_units('2.2222858e5 Msol')\n",
    "            gal2_shifted[fam][:len(s2)]['rho'] = s2['rho'].in_units('2.2222858e5 Msol kpc**-3')\n",
    "            gal2_shifted[fam][:len(s2)]['eps'] = s2['eps'].in_units('kpc')\n",
    "            print(\"Done\")\n",
    "\n",
    "        gal2_shifted.write(filename='temp2.tipsy', fmt=pynbody.tipsy.TipsySnap, cosmological = False)\n",
    "\n",
    "        print(\"Combining galaxies\")\n",
    "        for fam in gal1_shifted.families():\n",
    "            lengths[fam.name] = len(gal1_shifted[fam])+len(gal2_shifted[fam])\n",
    "\n",
    "        combined = pynbody.new(**lengths)\n",
    "\n",
    "        for fam in Gal1.families():\n",
    "            s1 = gal1_shifted[fam]\n",
    "            s2 = gal2_shifted[fam]\n",
    "            for arname in 'pos','vel','mass', 'rho', 'eps':\n",
    "                combined[fam][:len(s1)][arname] = s1[arname]\n",
    "                combined[fam][len(s1):][arname] = s2[arname]\n",
    "\n",
    "        combined.write(filename=self.writename, fmt=pynbody.tipsy.TipsySnap, cosmological = False)\n",
    "        print(\"Done\")\n",
    "        return combined\n",
    "\n",
    "    def make_param_file(self):\n",
    "        \"\"\"Creates a param file for use in ChaNGa. Sets nSteps to integrate over one orbital period.\"\"\"\n",
    "        p = self.get_period()\n",
    "        \n",
    "        dDelta = 0.01\n",
    "            \n",
    "        #check    \n",
    "        gyears = p.to(1e9*u.year)\n",
    "        print(gyears)\n",
    "        steps = gyears / dDelta\n",
    "        \n",
    "        achInFile = self.writename\n",
    "\n",
    "        # write data in a file. \n",
    "        file = open(self.writename + \".param\",\"w\") \n",
    "        L = [\"nSteps = \" + str(int(steps.value)) + \"\\n\", \"dTheta = 0.7 \\n\",\"dEta = .03 \\n\",\"dDelta = \" + str(dDelta) + \" \\n\",\"iOutInterval = 500 \\n\",\n",
    "             \"achInFile = \" + achInFile + \" \\n\",\"achOutName = \" + self.writename +\" \\n\", \"iLogInterval = 1 \\n\",\n",
    "             \"dMsolUnit = 2.2222858e5 \\n\", \"dKpcUnit = 1 \\n\", \"dDumpFrameStep = 25 \\n\", \"iDirector = 1 \\n\"]  \n",
    "\n",
    "        file.writelines(L) \n",
    "        file.close() #to change file access modes \n",
    "        \n",
    "    def make_director_file(self):\n",
    "        \"\"\"Creates a param file for use in ChaNGa. Sets nSteps to integrate over one orbital period.\"\"\"\n",
    "        # write data in a file. \n",
    "        file = open(self.writename + \".director\",\"w\")\n",
    "        a = -self.d_perigalactic/(self.eccentricity-1)\n",
    "        z = 0.5 * a.value + 20\n",
    "        L = [\"size 1000 1000 \\n\", \"clip 0.001 500 \\n\",\"render tsc \\n\",\"target 0 0 0 \\n\",\"physical \\n\",\n",
    "             \"file \" + str(self.writename) + \" \\n\",\"project perspective \\n\", \"softdark 0.2 \\n\",\n",
    "              \"logscale 100000000000 10000000000000000 \\n\", \"colstar 1. 0.3 0. 5e-18 \\n\", \"coldark 0.2 0.2 5 7e-16 \\n\",\n",
    "             \"dDumpFrameStep = 25 \\n\", \"iDirector = 1 \\n\", \"gas off \\n\", \"FOV 90 \\n\", \"up 0 1 0 \\n\", \"eye 0. 0. \" + str(z) + \" \\n\"]                             \n",
    "        \n",
    "        file.writelines(L) \n",
    "        file.close() #to change file access modes"
   ]
  },
  {
   "cell_type": "markdown",
   "metadata": {},
   "source": [
    "### Instantiating our class and plotting the initial condition with PyNBody:"
   ]
  },
  {
   "cell_type": "code",
   "execution_count": 104,
   "metadata": {},
   "outputs": [
    {
     "data": {
      "text/plain": [
       "SimArray([0.05, 0.05, 0.05, ..., 0.05, 0.05, 0.05], 'kpc')"
      ]
     },
     "execution_count": 104,
     "metadata": {},
     "output_type": "execute_result"
    }
   ],
   "source": [
    "plt.style.use('ggplot')\n",
    "\n",
    "# Load models here\n",
    "Gal1 = pynbody.load('./InitialConditions/initMW')\n",
    "Gal2 = pynbody.load('./InitialConditions/initMW2')\n",
    "\n",
    "Gal1['eps']"
   ]
  },
  {
   "cell_type": "code",
   "execution_count": 173,
   "metadata": {},
   "outputs": [],
   "source": [
    "# Instantiate class\n",
    "two_bodys = Bodys(Gal1, Gal2, d_perigalactic = 23, inital_separation = 276, eccentricity = .6, writename = \"testing.tipsy\", Omega1 = 0, w1 = 4.71239, i1 = 0.261799, Omega2 = 0, w2 = 4.71239, i2 = 1.0472, transform=True)"
   ]
  },
  {
   "cell_type": "code",
   "execution_count": 174,
   "metadata": {},
   "outputs": [
    {
     "name": "stdout",
     "output_type": "stream",
     "text": [
      "T:2.7660730096563773e+18 s\n",
      "87.65156443000663 1e+09 yr\n",
      "Getting initial conditions\n",
      "Finding E1\n",
      "[757.12644218]\n",
      "Done\n",
      "Finding E2\n",
      "[757.12644218]\n",
      "Done\n",
      "xcom = [0.] kpc\n",
      "<SimSnap \"./InitialConditions/initMW\" len=2500000>: x,y,vx,vy = (<Quantity [91.99980375] kpc>, <Quantity [0.12018266] kpc>, <Quantity [-6.58111013] m / s>, <Quantity [2015.13291682] m / s>)\n",
      "Finding E1\n",
      "[757.12644218]\n",
      "Done\n",
      "Finding E2\n",
      "[757.12644218]\n",
      "Done\n",
      "xcom = [0.] kpc\n",
      "<SimSnap \"./InitialConditions/initMW2\" len=2500000>: x,y,vx,vy = (<Quantity [-91.99980375] kpc>, <Quantity [-0.12018266] kpc>, <Quantity [6.58111013] m / s>, <Quantity [-2015.13291682] m / s>)\n",
      "Done\n",
      "[[ 1.01961531e-06  1.00000000e+00  0.00000000e+00]\n",
      " [-9.65925927e-01  9.84872863e-07 -2.58818671e-01]\n",
      " [-2.58818671e-01  2.63895479e-07  9.65925927e-01]]\n",
      "Tranforming dm\n",
      "Done\n",
      "Shifting family dm\n",
      "Done\n",
      "[[ 1.01961531e-06  1.00000000e+00  0.00000000e+00]\n",
      " [-9.65925927e-01  9.84872863e-07 -2.58818671e-01]\n",
      " [-2.58818671e-01  2.63895479e-07  9.65925927e-01]]\n",
      "Tranforming star\n",
      "Done\n",
      "Shifting family star\n",
      "Done\n",
      "Tranforming dm\n",
      "[[ 1.01961531e-06  1.00000000e+00  0.00000000e+00]\n",
      " [-9.65925927e-01  9.84872863e-07 -2.58818671e-01]\n",
      " [-2.58818671e-01  2.63895479e-07  9.65925927e-01]]\n",
      "Done\n",
      "Shifting family dm\n",
      "Done\n",
      "Tranforming star\n",
      "[[ 1.01961531e-06  1.00000000e+00  0.00000000e+00]\n",
      " [-9.65925927e-01  9.84872863e-07 -2.58818671e-01]\n",
      " [-2.58818671e-01  2.63895479e-07  9.65925927e-01]]\n",
      "Done\n",
      "Shifting family star\n",
      "Done\n",
      "Combining galaxies\n",
      "Done\n"
     ]
    }
   ],
   "source": [
    "# Make the tipsy files\n",
    "two_bodys.make_param_file()\n",
    "two_bodys.make_director_file()\n",
    "combined = two_bodys.combine()"
   ]
  },
  {
   "cell_type": "code",
   "execution_count": 180,
   "metadata": {},
   "outputs": [
    {
     "data": {
      "text/plain": [
       "SimArray([[3.5675043e-17, 3.5675043e-17, 3.5675043e-17, ...,\n",
       "           3.5675043e-17, 3.5675043e-17, 3.5675043e-17],\n",
       "          [3.5675043e-17, 3.5675043e-17, 3.5675043e-17, ...,\n",
       "           3.5675043e-17, 3.5675043e-17, 3.5675043e-17],\n",
       "          [3.5675043e-17, 3.5675043e-17, 3.5675043e-17, ...,\n",
       "           3.5675043e-17, 3.5675043e-17, 3.5675043e-17],\n",
       "          ...,\n",
       "          [3.5675043e-17, 3.5675043e-17, 3.5675043e-17, ...,\n",
       "           3.5675043e-17, 3.5675043e-17, 3.5675043e-17],\n",
       "          [3.5675043e-17, 3.5675043e-17, 3.5675043e-17, ...,\n",
       "           3.5675043e-17, 3.5675043e-17, 3.5675043e-17],\n",
       "          [3.5675043e-17, 3.5675043e-17, 3.5675043e-17, ...,\n",
       "           3.5675043e-17, 3.5675043e-17, 3.5675043e-17]], dtype=float32, '2.22e+05 Msol kpc**-3')"
      ]
     },
     "execution_count": 180,
     "metadata": {},
     "output_type": "execute_result"
    },
    {
     "data": {
      "image/png": "[encoded data removed]",
      "text/plain": [
       "<Figure size 432x288 with 1 Axes>"
      ]
     },
     "metadata": {},
     "output_type": "display_data"
    }
   ],
   "source": [
    "sph.velocity_image(combined, vector_color=\"black\", qty=\"rho\",width=5000,cmap=\"Blues\",\n",
    "                   denoise=False,approximate_fast=False, show_cbar = False)"
   ]
  },
  {
   "cell_type": "markdown",
   "metadata": {},
   "source": [
    "# Tests:"
   ]
  },
  {
   "cell_type": "markdown",
   "metadata": {},
   "source": [
    "### Integrating our initial condition:"
   ]
  },
  {
   "cell_type": "code",
   "execution_count": 181,
   "metadata": {},
   "outputs": [
    {
     "name": "stdout",
     "output_type": "stream",
     "text": [
      "T:2.7660730096563773e+18 s\n",
      "Finding E1\n",
      "[757.12644218]\n",
      "Done\n",
      "Finding E2\n",
      "[757.12644218]\n",
      "Done\n",
      "xcom = [0.] kpc\n",
      "<SimSnap \"./InitialConditions/initMW\" len=2500000>: x,y,vx,vy = (<Quantity [91.99980375] kpc>, <Quantity [0.12018266] kpc>, <Quantity [-6.58111013] m / s>, <Quantity [2015.13291682] m / s>)\n",
      "T:2.7660730096563773e+18 s\n",
      "Finding E1\n",
      "[757.12644218]\n",
      "Done\n",
      "Finding E2\n",
      "[757.12644218]\n",
      "Done\n",
      "xcom = [0.] kpc\n",
      "<SimSnap \"./InitialConditions/initMW2\" len=2500000>: x,y,vx,vy = (<Quantity [-91.99980375] kpc>, <Quantity [-0.12018266] kpc>, <Quantity [6.58111013] m / s>, <Quantity [-2015.13291682] m / s>)\n"
     ]
    }
   ],
   "source": [
    "test1 = two_bodys.solve_ivp(Gal1)\n",
    "test2 = two_bodys.solve_ivp(Gal2)"
   ]
  },
  {
   "cell_type": "markdown",
   "metadata": {},
   "source": [
    "### Plotting y vs t for one (well at least its supposed to be one) period:"
   ]
  },
  {
   "cell_type": "code",
   "execution_count": 182,
   "metadata": {},
   "outputs": [],
   "source": [
    "Mass1 = float(Gal1['mass'].sum().in_units('kg'))*u.kg\n",
    "Mass2 = float(Gal2['mass'].sum().in_units('kg'))*u.kg\n",
    "MassTot = Mass1 + Mass2\n",
    "\n",
    "\n",
    "x1 = (test1['y'][0]*u.m).to(u.kpc).value * Mass1/MassTot\n",
    "x2 = (test2['y'][0]*u.m).to(u.kpc).value * Mass2/MassTot\n",
    "y1 = (test1['y'][1]*u.m).to(u.kpc).value * Mass1/MassTot\n",
    "y2 = (test2['y'][1]*u.m).to(u.kpc).value * Mass2/MassTot"
   ]
  },
  {
   "cell_type": "code",
   "execution_count": 183,
   "metadata": {},
   "outputs": [
    {
     "data": {
      "text/plain": [
       "Text(0.5, 0, 't')"
      ]
     },
     "execution_count": 183,
     "metadata": {},
     "output_type": "execute_result"
    },
    {
     "data": {
      "image/png": "[encoded data removed]",
      "text/plain": [
       "<Figure size 432x288 with 2 Axes>"
      ]
     },
     "metadata": {},
     "output_type": "display_data"
    }
   ],
   "source": [
    "fig, ax = plt.subplots(2)\n",
    "ax[0].plot(test1['t'],y1)\n",
    "ax[1].plot(test2['t'],y2)\n",
    "ax[0].set_ylabel('y')\n",
    "ax[0].set_xlabel('t')"
   ]
  },
  {
   "cell_type": "markdown",
   "metadata": {},
   "source": [
    "### Plotting x vs y:"
   ]
  },
  {
   "cell_type": "code",
   "execution_count": 186,
   "metadata": {},
   "outputs": [
    {
     "data": {
      "text/plain": [
       "<matplotlib.collections.PathCollection at 0x7f39edf89f90>"
      ]
     },
     "execution_count": 186,
     "metadata": {},
     "output_type": "execute_result"
    },
    {
     "data": {
      "image/png": "[encoded data removed]",
      "text/plain": [
       "<Figure size 1080x1080 with 1 Axes>"
      ]
     },
     "metadata": {},
     "output_type": "display_data"
    }
   ],
   "source": [
    "fig, ax = plt.subplots(figsize=(15,15))\n",
    "\n",
    "ax.set_ylim(-50,50)\n",
    "ax.set_xlim(-50,50)\n",
    "\n",
    "ax.scatter(x1,y1,c='b')\n",
    "ax.scatter(x2,y2,c='r')\n",
    "\n"
   ]
  },
  {
   "cell_type": "code",
   "execution_count": null,
   "metadata": {},
   "outputs": [],
   "source": []
  },
  {
   "cell_type": "code",
   "execution_count": null,
   "metadata": {},
   "outputs": [],
   "source": []
  }
 ],
 "metadata": {
  "kernelspec": {
   "display_name": "Python 3",
   "language": "python",
   "name": "python3"
  },
  "language_info": {
   "codemirror_mode": {
    "name": "ipython",
    "version": 3
   },
   "file_extension": ".py",
   "mimetype": "text/x-python",
   "name": "python",
   "nbconvert_exporter": "python",
   "pygments_lexer": "ipython3",
   "version": "3.7.7"
  }
 },
 "nbformat": 4,
 "nbformat_minor": 4
}
